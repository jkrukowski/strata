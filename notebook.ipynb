{
 "cells": [
  {
   "cell_type": "code",
   "execution_count": 1,
   "metadata": {
    "collapsed": true
   },
   "outputs": [],
   "source": [
    "import numpy as np\n",
    "import pandas as pd\n",
    "import tensorflow as tf"
   ]
  },
  {
   "cell_type": "code",
   "execution_count": 2,
   "metadata": {
    "collapsed": false
   },
   "outputs": [],
   "source": [
    "x = pd.read_csv('train.csv', header=None)\n",
    "x = x.fillna(x.mean())\n",
    "x = x.T\n",
    "y = pd.read_csv('train_labels.csv', header=None)\n",
    "y = y.T\n",
    "y = y.astype(bool)\n",
    "y = y.append([~y.iloc[[0]]], ignore_index=True).astype(int)"
   ]
  },
  {
   "cell_type": "code",
   "execution_count": 3,
   "metadata": {
    "collapsed": true
   },
   "outputs": [],
   "source": [
    "def train():\n",
    "    n_x = x.shape[0]\n",
    "    n_y = y.shape[0]\n",
    "    learning_rate = tf.train.exponential_decay(learning_rate=0.0008,\n",
    "                                               global_step=1,\n",
    "                                               decay_steps=x.shape[1],\n",
    "                                               decay_rate=0.95,\n",
    "                                               staircase=True)\n",
    "    num_epochs = 50000\n",
    "    X = tf.placeholder(tf.float32, shape=(n_x, None), name=\"X\")\n",
    "    Y = tf.placeholder(tf.float32, shape=(n_y, None), name=\"Y\")\n",
    "    W1 = tf.get_variable(\"W1\", [n_y, n_x], initializer=tf.contrib.layers.xavier_initializer())\n",
    "    b1 = tf.get_variable(\"b1\", [n_y, 1], initializer=tf.zeros_initializer())\n",
    "    Z1 = tf.add(tf.matmul(W1, X), b1)\n",
    "    Z1 = tf.nn.sigmoid(Z1)\n",
    "    cost = tf.nn.l2_loss(Z1-Y)\n",
    "    optimizer = tf.train.AdamOptimizer(learning_rate=learning_rate).minimize(cost)\n",
    "    init = tf.global_variables_initializer()\n",
    "    with tf.Session() as sess:\n",
    "        sess.run(init)\n",
    "        for epoch in range(num_epochs):\n",
    "            _ , c = sess.run([optimizer, cost], feed_dict={X: x, Y: y})\n",
    "            if epoch % 2000 == 0:\n",
    "                print(\"cost: {0}\".format(c))"
   ]
  },
  {
   "cell_type": "code",
   "execution_count": 4,
   "metadata": {
    "collapsed": false
   },
   "outputs": [
    {
     "name": "stdout",
     "output_type": "stream",
     "text": [
      "cost: 270.29144287109375\n",
      "cost: 33.16476821899414\n",
      "cost: 25.731082916259766\n",
      "cost: 20.515438079833984\n",
      "cost: 17.07073211669922\n",
      "cost: 14.7495698928833\n",
      "cost: 13.154545783996582\n",
      "cost: 12.04956340789795\n",
      "cost: 11.279936790466309\n",
      "cost: 10.742225646972656\n",
      "cost: 10.366595268249512\n",
      "cost: 10.10789680480957\n",
      "cost: 9.938538551330566\n",
      "cost: 9.809797286987305\n",
      "cost: 9.715087890625\n",
      "cost: 9.648332595825195\n",
      "cost: 9.602325439453125\n",
      "cost: 9.573612213134766\n",
      "cost: 9.553394317626953\n",
      "cost: 9.538293838500977\n",
      "cost: 9.526871681213379\n",
      "cost: 9.518501281738281\n",
      "cost: 9.512641906738281\n",
      "cost: 9.508644104003906\n",
      "cost: 9.505931854248047\n"
     ]
    }
   ],
   "source": [
    "train()"
   ]
  },
  {
   "cell_type": "code",
   "execution_count": null,
   "metadata": {
    "collapsed": true
   },
   "outputs": [],
   "source": []
  }
 ],
 "metadata": {
  "anaconda-cloud": {},
  "kernelspec": {
   "display_name": "Python [conda env:py35]",
   "language": "python",
   "name": "conda-env-py35-py"
  },
  "language_info": {
   "codemirror_mode": {
    "name": "ipython",
    "version": 3
   },
   "file_extension": ".py",
   "mimetype": "text/x-python",
   "name": "python",
   "nbconvert_exporter": "python",
   "pygments_lexer": "ipython3",
   "version": "3.5.2"
  }
 },
 "nbformat": 4,
 "nbformat_minor": 1
}
