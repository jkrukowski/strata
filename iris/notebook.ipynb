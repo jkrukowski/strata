{
 "cells": [
  {
   "cell_type": "code",
   "execution_count": 1,
   "metadata": {
    "collapsed": true
   },
   "outputs": [],
   "source": [
    "import tensorflow as tf\n",
    "import numpy as np"
   ]
  },
  {
   "cell_type": "code",
   "execution_count": 2,
   "metadata": {
    "collapsed": false
   },
   "outputs": [],
   "source": [
    "training_set = tf.contrib.learn.datasets.base.load_csv_with_header(\n",
    "    filename='iris_training.csv',\n",
    "    target_dtype=np.int,\n",
    "    features_dtype=np.float32)\n",
    "\n",
    "test_set = tf.contrib.learn.datasets.base.load_csv_with_header(\n",
    "    filename='iris_test.csv',\n",
    "    target_dtype=np.int,\n",
    "    features_dtype=np.float32)"
   ]
  },
  {
   "cell_type": "code",
   "execution_count": 11,
   "metadata": {
    "collapsed": false
   },
   "outputs": [
    {
     "data": {
      "text/plain": [
       "Dataset(data=array([[ 6.4000001 ,  2.79999995,  5.5999999 ,  2.20000005],\n",
       "       [ 5.        ,  2.29999995,  3.29999995,  1.        ],\n",
       "       [ 4.9000001 ,  2.5       ,  4.5       ,  1.70000005],\n",
       "       [ 4.9000001 ,  3.0999999 ,  1.5       ,  0.1       ],\n",
       "       [ 5.69999981,  3.79999995,  1.70000005,  0.30000001],\n",
       "       [ 4.4000001 ,  3.20000005,  1.29999995,  0.2       ],\n",
       "       [ 5.4000001 ,  3.4000001 ,  1.5       ,  0.40000001],\n",
       "       [ 6.9000001 ,  3.0999999 ,  5.0999999 ,  2.29999995],\n",
       "       [ 6.69999981,  3.0999999 ,  4.4000001 ,  1.39999998],\n",
       "       [ 5.0999999 ,  3.70000005,  1.5       ,  0.40000001],\n",
       "       [ 5.19999981,  2.70000005,  3.9000001 ,  1.39999998],\n",
       "       [ 6.9000001 ,  3.0999999 ,  4.9000001 ,  1.5       ],\n",
       "       [ 5.80000019,  4.        ,  1.20000005,  0.2       ],\n",
       "       [ 5.4000001 ,  3.9000001 ,  1.70000005,  0.40000001],\n",
       "       [ 7.69999981,  3.79999995,  6.69999981,  2.20000005],\n",
       "       [ 6.30000019,  3.29999995,  4.69999981,  1.60000002],\n",
       "       [ 6.80000019,  3.20000005,  5.9000001 ,  2.29999995],\n",
       "       [ 7.5999999 ,  3.        ,  6.5999999 ,  2.0999999 ],\n",
       "       [ 6.4000001 ,  3.20000005,  5.30000019,  2.29999995],\n",
       "       [ 5.69999981,  4.4000001 ,  1.5       ,  0.40000001],\n",
       "       [ 6.69999981,  3.29999995,  5.69999981,  2.0999999 ],\n",
       "       [ 6.4000001 ,  2.79999995,  5.5999999 ,  2.0999999 ],\n",
       "       [ 5.4000001 ,  3.9000001 ,  1.29999995,  0.40000001],\n",
       "       [ 6.0999999 ,  2.5999999 ,  5.5999999 ,  1.39999998],\n",
       "       [ 7.19999981,  3.        ,  5.80000019,  1.60000002],\n",
       "       [ 5.19999981,  3.5       ,  1.5       ,  0.2       ],\n",
       "       [ 5.80000019,  2.5999999 ,  4.        ,  1.20000005],\n",
       "       [ 5.9000001 ,  3.        ,  5.0999999 ,  1.79999995],\n",
       "       [ 5.4000001 ,  3.        ,  4.5       ,  1.5       ],\n",
       "       [ 6.69999981,  3.        ,  5.        ,  1.70000005],\n",
       "       [ 6.30000019,  2.29999995,  4.4000001 ,  1.29999995],\n",
       "       [ 5.0999999 ,  2.5       ,  3.        ,  1.10000002],\n",
       "       [ 6.4000001 ,  3.20000005,  4.5       ,  1.5       ],\n",
       "       [ 6.80000019,  3.        ,  5.5       ,  2.0999999 ],\n",
       "       [ 6.19999981,  2.79999995,  4.80000019,  1.79999995],\n",
       "       [ 6.9000001 ,  3.20000005,  5.69999981,  2.29999995],\n",
       "       [ 6.5       ,  3.20000005,  5.0999999 ,  2.        ],\n",
       "       [ 5.80000019,  2.79999995,  5.0999999 ,  2.4000001 ],\n",
       "       [ 5.0999999 ,  3.79999995,  1.5       ,  0.30000001],\n",
       "       [ 4.80000019,  3.        ,  1.39999998,  0.30000001],\n",
       "       [ 7.9000001 ,  3.79999995,  6.4000001 ,  2.        ],\n",
       "       [ 5.80000019,  2.70000005,  5.0999999 ,  1.89999998],\n",
       "       [ 6.69999981,  3.        ,  5.19999981,  2.29999995],\n",
       "       [ 5.0999999 ,  3.79999995,  1.89999998,  0.40000001],\n",
       "       [ 4.69999981,  3.20000005,  1.60000002,  0.2       ],\n",
       "       [ 6.        ,  2.20000005,  5.        ,  1.5       ],\n",
       "       [ 4.80000019,  3.4000001 ,  1.60000002,  0.2       ],\n",
       "       [ 7.69999981,  2.5999999 ,  6.9000001 ,  2.29999995],\n",
       "       [ 4.5999999 ,  3.5999999 ,  1.        ,  0.2       ],\n",
       "       [ 7.19999981,  3.20000005,  6.        ,  1.79999995],\n",
       "       [ 5.        ,  3.29999995,  1.39999998,  0.2       ],\n",
       "       [ 6.5999999 ,  3.        ,  4.4000001 ,  1.39999998],\n",
       "       [ 6.0999999 ,  2.79999995,  4.        ,  1.29999995],\n",
       "       [ 5.        ,  3.20000005,  1.20000005,  0.2       ],\n",
       "       [ 7.        ,  3.20000005,  4.69999981,  1.39999998],\n",
       "       [ 6.        ,  3.        ,  4.80000019,  1.79999995],\n",
       "       [ 7.4000001 ,  2.79999995,  6.0999999 ,  1.89999998],\n",
       "       [ 5.80000019,  2.70000005,  5.0999999 ,  1.89999998],\n",
       "       [ 6.19999981,  3.4000001 ,  5.4000001 ,  2.29999995],\n",
       "       [ 5.        ,  2.        ,  3.5       ,  1.        ],\n",
       "       [ 5.5999999 ,  2.5       ,  3.9000001 ,  1.10000002],\n",
       "       [ 6.69999981,  3.0999999 ,  5.5999999 ,  2.4000001 ],\n",
       "       [ 6.30000019,  2.5       ,  5.        ,  1.89999998],\n",
       "       [ 6.4000001 ,  3.0999999 ,  5.5       ,  1.79999995],\n",
       "       [ 6.19999981,  2.20000005,  4.5       ,  1.5       ],\n",
       "       [ 7.30000019,  2.9000001 ,  6.30000019,  1.79999995],\n",
       "       [ 4.4000001 ,  3.        ,  1.29999995,  0.2       ],\n",
       "       [ 7.19999981,  3.5999999 ,  6.0999999 ,  2.5       ],\n",
       "       [ 6.5       ,  3.        ,  5.5       ,  1.79999995],\n",
       "       [ 5.        ,  3.4000001 ,  1.5       ,  0.2       ],\n",
       "       [ 4.69999981,  3.20000005,  1.29999995,  0.2       ],\n",
       "       [ 6.5999999 ,  2.9000001 ,  4.5999999 ,  1.29999995],\n",
       "       [ 5.5       ,  3.5       ,  1.29999995,  0.2       ],\n",
       "       [ 7.69999981,  3.        ,  6.0999999 ,  2.29999995],\n",
       "       [ 6.0999999 ,  3.        ,  4.9000001 ,  1.79999995],\n",
       "       [ 4.9000001 ,  3.0999999 ,  1.5       ,  0.1       ],\n",
       "       [ 5.5       ,  2.4000001 ,  3.79999995,  1.10000002],\n",
       "       [ 5.69999981,  2.9000001 ,  4.19999981,  1.29999995],\n",
       "       [ 6.        ,  2.9000001 ,  4.5       ,  1.5       ],\n",
       "       [ 6.4000001 ,  2.70000005,  5.30000019,  1.89999998],\n",
       "       [ 5.4000001 ,  3.70000005,  1.5       ,  0.2       ],\n",
       "       [ 6.0999999 ,  2.9000001 ,  4.69999981,  1.39999998],\n",
       "       [ 6.5       ,  2.79999995,  4.5999999 ,  1.5       ],\n",
       "       [ 5.5999999 ,  2.70000005,  4.19999981,  1.29999995],\n",
       "       [ 6.30000019,  3.4000001 ,  5.5999999 ,  2.4000001 ],\n",
       "       [ 4.9000001 ,  3.0999999 ,  1.5       ,  0.1       ],\n",
       "       [ 6.80000019,  2.79999995,  4.80000019,  1.39999998],\n",
       "       [ 5.69999981,  2.79999995,  4.5       ,  1.29999995],\n",
       "       [ 6.        ,  2.70000005,  5.0999999 ,  1.60000002],\n",
       "       [ 5.        ,  3.5       ,  1.29999995,  0.30000001],\n",
       "       [ 6.5       ,  3.        ,  5.19999981,  2.        ],\n",
       "       [ 6.0999999 ,  2.79999995,  4.69999981,  1.20000005],\n",
       "       [ 5.0999999 ,  3.5       ,  1.39999998,  0.30000001],\n",
       "       [ 4.5999999 ,  3.0999999 ,  1.5       ,  0.2       ],\n",
       "       [ 6.5       ,  3.        ,  5.80000019,  2.20000005],\n",
       "       [ 4.5999999 ,  3.4000001 ,  1.39999998,  0.30000001],\n",
       "       [ 4.5999999 ,  3.20000005,  1.39999998,  0.2       ],\n",
       "       [ 7.69999981,  2.79999995,  6.69999981,  2.        ],\n",
       "       [ 5.9000001 ,  3.20000005,  4.80000019,  1.79999995],\n",
       "       [ 5.0999999 ,  3.79999995,  1.60000002,  0.2       ],\n",
       "       [ 4.9000001 ,  3.        ,  1.39999998,  0.2       ],\n",
       "       [ 4.9000001 ,  2.4000001 ,  3.29999995,  1.        ],\n",
       "       [ 4.5       ,  2.29999995,  1.29999995,  0.30000001],\n",
       "       [ 5.80000019,  2.70000005,  4.0999999 ,  1.        ],\n",
       "       [ 5.        ,  3.4000001 ,  1.60000002,  0.40000001],\n",
       "       [ 5.19999981,  3.4000001 ,  1.39999998,  0.2       ],\n",
       "       [ 5.30000019,  3.70000005,  1.5       ,  0.2       ],\n",
       "       [ 5.        ,  3.5999999 ,  1.39999998,  0.2       ],\n",
       "       [ 5.5999999 ,  2.9000001 ,  3.5999999 ,  1.29999995],\n",
       "       [ 4.80000019,  3.0999999 ,  1.60000002,  0.2       ],\n",
       "       [ 6.30000019,  2.70000005,  4.9000001 ,  1.79999995],\n",
       "       [ 5.69999981,  2.79999995,  4.0999999 ,  1.29999995],\n",
       "       [ 5.        ,  3.        ,  1.60000002,  0.2       ],\n",
       "       [ 6.30000019,  3.29999995,  6.        ,  2.5       ],\n",
       "       [ 5.        ,  3.5       ,  1.60000002,  0.60000002],\n",
       "       [ 5.5       ,  2.5999999 ,  4.4000001 ,  1.20000005],\n",
       "       [ 5.69999981,  3.        ,  4.19999981,  1.20000005],\n",
       "       [ 4.4000001 ,  2.9000001 ,  1.39999998,  0.2       ],\n",
       "       [ 4.80000019,  3.        ,  1.39999998,  0.1       ],\n",
       "       [ 5.5       ,  2.4000001 ,  3.70000005,  1.        ]], dtype=float32), target=array([2, 1, 2, 0, 0, 0, 0, 2, 1, 0, 1, 1, 0, 0, 2, 1, 2, 2, 2, 0, 2, 2, 0,\n",
       "       2, 2, 0, 1, 2, 1, 1, 1, 1, 1, 2, 2, 2, 2, 2, 0, 0, 2, 2, 2, 0, 0, 2,\n",
       "       0, 2, 0, 2, 0, 1, 1, 0, 1, 2, 2, 2, 2, 1, 1, 2, 2, 2, 1, 2, 0, 2, 2,\n",
       "       0, 0, 1, 0, 2, 2, 0, 1, 1, 1, 2, 0, 1, 1, 1, 2, 0, 1, 1, 1, 0, 2, 1,\n",
       "       0, 0, 2, 0, 0, 2, 1, 0, 0, 1, 0, 1, 0, 0, 0, 0, 1, 0, 2, 1, 0, 2, 0,\n",
       "       1, 1, 0, 0, 1]))"
      ]
     },
     "execution_count": 11,
     "metadata": {},
     "output_type": "execute_result"
    }
   ],
   "source": [
    "training_set"
   ]
  },
  {
   "cell_type": "code",
   "execution_count": 6,
   "metadata": {
    "collapsed": false
   },
   "outputs": [
    {
     "name": "stdout",
     "output_type": "stream",
     "text": [
      "INFO:tensorflow:Using default config.\n",
      "INFO:tensorflow:Using config: {'_tf_random_seed': 1, '_session_config': None, '_model_dir': './model', '_save_checkpoints_steps': None, '_save_summary_steps': 100, '_log_step_count_steps': 100, '_keep_checkpoint_max': 5, '_keep_checkpoint_every_n_hours': 10000, '_save_checkpoints_secs': 600}\n"
     ]
    }
   ],
   "source": [
    "feature_columns = [tf.feature_column.numeric_column(\"x\", shape=[4])]\n",
    "classifier = tf.estimator.DNNClassifier(feature_columns=feature_columns,\n",
    "                                        hidden_units=[10, 20, 10],\n",
    "                                        n_classes=3,\n",
    "                                        model_dir=\"./model\")"
   ]
  },
  {
   "cell_type": "code",
   "execution_count": 7,
   "metadata": {
    "collapsed": true
   },
   "outputs": [],
   "source": [
    "train_input_fn = tf.estimator.inputs.numpy_input_fn(\n",
    "    x={\"x\": np.array(training_set.data)},\n",
    "    y=np.array(training_set.target),\n",
    "    num_epochs=None,\n",
    "    shuffle=True)"
   ]
  },
  {
   "cell_type": "code",
   "execution_count": 8,
   "metadata": {
    "collapsed": false
   },
   "outputs": [
    {
     "name": "stdout",
     "output_type": "stream",
     "text": [
      "INFO:tensorflow:Create CheckpointSaverHook.\n",
      "INFO:tensorflow:Saving checkpoints for 1 into ./model/model.ckpt.\n",
      "INFO:tensorflow:step = 1, loss = 317.236\n",
      "INFO:tensorflow:global_step/sec: 620.826\n",
      "INFO:tensorflow:step = 101, loss = 8.70407 (0.162 sec)\n",
      "INFO:tensorflow:global_step/sec: 669.855\n",
      "INFO:tensorflow:step = 201, loss = 13.0596 (0.149 sec)\n",
      "INFO:tensorflow:global_step/sec: 633.994\n",
      "INFO:tensorflow:step = 301, loss = 6.03388 (0.158 sec)\n",
      "INFO:tensorflow:global_step/sec: 659.227\n",
      "INFO:tensorflow:step = 401, loss = 8.42547 (0.152 sec)\n",
      "INFO:tensorflow:global_step/sec: 672.115\n",
      "INFO:tensorflow:step = 501, loss = 12.7647 (0.149 sec)\n",
      "INFO:tensorflow:global_step/sec: 648.782\n",
      "INFO:tensorflow:step = 601, loss = 17.3431 (0.154 sec)\n",
      "INFO:tensorflow:global_step/sec: 613.863\n",
      "INFO:tensorflow:step = 701, loss = 3.53832 (0.163 sec)\n",
      "INFO:tensorflow:global_step/sec: 561.328\n",
      "INFO:tensorflow:step = 801, loss = 5.9529 (0.178 sec)\n",
      "INFO:tensorflow:global_step/sec: 647.827\n",
      "INFO:tensorflow:step = 901, loss = 8.02625 (0.155 sec)\n",
      "INFO:tensorflow:global_step/sec: 416.473\n",
      "INFO:tensorflow:step = 1001, loss = 8.33681 (0.242 sec)\n",
      "INFO:tensorflow:global_step/sec: 424.239\n",
      "INFO:tensorflow:step = 1101, loss = 6.754 (0.234 sec)\n",
      "INFO:tensorflow:global_step/sec: 432.567\n",
      "INFO:tensorflow:step = 1201, loss = 9.35646 (0.233 sec)\n",
      "INFO:tensorflow:global_step/sec: 408.924\n",
      "INFO:tensorflow:step = 1301, loss = 7.2532 (0.245 sec)\n",
      "INFO:tensorflow:global_step/sec: 417.293\n",
      "INFO:tensorflow:step = 1401, loss = 12.6602 (0.240 sec)\n",
      "INFO:tensorflow:global_step/sec: 482.826\n",
      "INFO:tensorflow:step = 1501, loss = 2.7812 (0.205 sec)\n",
      "INFO:tensorflow:global_step/sec: 537.814\n",
      "INFO:tensorflow:step = 1601, loss = 12.1908 (0.188 sec)\n",
      "INFO:tensorflow:global_step/sec: 489.865\n",
      "INFO:tensorflow:step = 1701, loss = 5.68558 (0.204 sec)\n",
      "INFO:tensorflow:global_step/sec: 478.732\n",
      "INFO:tensorflow:step = 1801, loss = 4.35901 (0.206 sec)\n",
      "INFO:tensorflow:global_step/sec: 487.154\n",
      "INFO:tensorflow:step = 1901, loss = 4.61182 (0.206 sec)\n",
      "INFO:tensorflow:Saving checkpoints for 2000 into ./model/model.ckpt.\n",
      "INFO:tensorflow:Loss for final step: 9.51102.\n"
     ]
    },
    {
     "data": {
      "text/plain": [
       "<tensorflow.python.estimator.canned.dnn.DNNClassifier at 0x12014c780>"
      ]
     },
     "execution_count": 8,
     "metadata": {},
     "output_type": "execute_result"
    }
   ],
   "source": [
    "classifier.train(input_fn=train_input_fn, steps=2000)"
   ]
  },
  {
   "cell_type": "code",
   "execution_count": 9,
   "metadata": {
    "collapsed": true
   },
   "outputs": [],
   "source": [
    "test_input_fn = tf.estimator.inputs.numpy_input_fn(\n",
    "    x={\"x\": np.array(test_set.data)},\n",
    "    y=np.array(test_set.target),\n",
    "    num_epochs=1,\n",
    "    shuffle=False)"
   ]
  },
  {
   "cell_type": "code",
   "execution_count": 10,
   "metadata": {
    "collapsed": false
   },
   "outputs": [
    {
     "name": "stdout",
     "output_type": "stream",
     "text": [
      "INFO:tensorflow:Starting evaluation at 2017-10-25-10:31:48\n",
      "INFO:tensorflow:Restoring parameters from ./model/model.ckpt-2000\n",
      "INFO:tensorflow:Finished evaluation at 2017-10-25-10:31:49\n",
      "INFO:tensorflow:Saving dict for global step 2000: accuracy = 0.966667, average_loss = 0.0823072, global_step = 2000, loss = 2.46922\n",
      "\n",
      "Test Accuracy: 0.966667\n",
      "\n"
     ]
    }
   ],
   "source": [
    "accuracy_score = classifier.evaluate(input_fn=test_input_fn)[\"accuracy\"]\n",
    "\n",
    "print(\"\\nTest Accuracy: {0:f}\\n\".format(accuracy_score))"
   ]
  },
  {
   "cell_type": "code",
   "execution_count": null,
   "metadata": {
    "collapsed": true
   },
   "outputs": [],
   "source": []
  }
 ],
 "metadata": {
  "anaconda-cloud": {},
  "kernelspec": {
   "display_name": "Python [conda env:py35]",
   "language": "python",
   "name": "conda-env-py35-py"
  },
  "language_info": {
   "codemirror_mode": {
    "name": "ipython",
    "version": 3
   },
   "file_extension": ".py",
   "mimetype": "text/x-python",
   "name": "python",
   "nbconvert_exporter": "python",
   "pygments_lexer": "ipython3",
   "version": "3.5.2"
  }
 },
 "nbformat": 4,
 "nbformat_minor": 1
}
