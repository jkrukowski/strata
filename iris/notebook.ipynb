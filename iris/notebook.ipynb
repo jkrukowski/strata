{
 "cells": [
  {
   "cell_type": "code",
   "execution_count": 1,
   "metadata": {
    "collapsed": true
   },
   "outputs": [],
   "source": [
    "import tensorflow as tf\n",
    "import numpy as np"
   ]
  },
  {
   "cell_type": "code",
   "execution_count": 2,
   "metadata": {
    "collapsed": false
   },
   "outputs": [],
   "source": [
    "training_set = tf.contrib.learn.datasets.base.load_csv_with_header(\n",
    "    filename='iris_training.csv',\n",
    "    target_dtype=np.int,\n",
    "    features_dtype=np.float32)\n",
    "\n",
    "test_set = tf.contrib.learn.datasets.base.load_csv_with_header(\n",
    "    filename='iris_test.csv',\n",
    "    target_dtype=np.int,\n",
    "    features_dtype=np.float32)"
   ]
  },
  {
   "cell_type": "code",
   "execution_count": 6,
   "metadata": {
    "collapsed": false
   },
   "outputs": [
    {
     "name": "stdout",
     "output_type": "stream",
     "text": [
      "INFO:tensorflow:Using default config.\n",
      "INFO:tensorflow:Using config: {'_tf_random_seed': 1, '_session_config': None, '_model_dir': './model', '_save_checkpoints_steps': None, '_save_summary_steps': 100, '_log_step_count_steps': 100, '_keep_checkpoint_max': 5, '_keep_checkpoint_every_n_hours': 10000, '_save_checkpoints_secs': 600}\n"
     ]
    }
   ],
   "source": [
    "feature_columns = [tf.feature_column.numeric_column(\"x\", shape=[4])]\n",
    "classifier = tf.estimator.DNNClassifier(feature_columns=feature_columns,\n",
    "                                        hidden_units=[10, 20, 10],\n",
    "                                        n_classes=3,\n",
    "                                        model_dir=\"./model\")"
   ]
  },
  {
   "cell_type": "code",
   "execution_count": 7,
   "metadata": {
    "collapsed": true
   },
   "outputs": [],
   "source": [
    "train_input_fn = tf.estimator.inputs.numpy_input_fn(\n",
    "    x={\"x\": np.array(training_set.data)},\n",
    "    y=np.array(training_set.target),\n",
    "    num_epochs=None,\n",
    "    shuffle=True)"
   ]
  },
  {
   "cell_type": "code",
   "execution_count": 8,
   "metadata": {
    "collapsed": false
   },
   "outputs": [
    {
     "name": "stdout",
     "output_type": "stream",
     "text": [
      "INFO:tensorflow:Create CheckpointSaverHook.\n",
      "INFO:tensorflow:Saving checkpoints for 1 into ./model/model.ckpt.\n",
      "INFO:tensorflow:step = 1, loss = 317.236\n",
      "INFO:tensorflow:global_step/sec: 620.826\n",
      "INFO:tensorflow:step = 101, loss = 8.70407 (0.162 sec)\n",
      "INFO:tensorflow:global_step/sec: 669.855\n",
      "INFO:tensorflow:step = 201, loss = 13.0596 (0.149 sec)\n",
      "INFO:tensorflow:global_step/sec: 633.994\n",
      "INFO:tensorflow:step = 301, loss = 6.03388 (0.158 sec)\n",
      "INFO:tensorflow:global_step/sec: 659.227\n",
      "INFO:tensorflow:step = 401, loss = 8.42547 (0.152 sec)\n",
      "INFO:tensorflow:global_step/sec: 672.115\n",
      "INFO:tensorflow:step = 501, loss = 12.7647 (0.149 sec)\n",
      "INFO:tensorflow:global_step/sec: 648.782\n",
      "INFO:tensorflow:step = 601, loss = 17.3431 (0.154 sec)\n",
      "INFO:tensorflow:global_step/sec: 613.863\n",
      "INFO:tensorflow:step = 701, loss = 3.53832 (0.163 sec)\n",
      "INFO:tensorflow:global_step/sec: 561.328\n",
      "INFO:tensorflow:step = 801, loss = 5.9529 (0.178 sec)\n",
      "INFO:tensorflow:global_step/sec: 647.827\n",
      "INFO:tensorflow:step = 901, loss = 8.02625 (0.155 sec)\n",
      "INFO:tensorflow:global_step/sec: 416.473\n",
      "INFO:tensorflow:step = 1001, loss = 8.33681 (0.242 sec)\n",
      "INFO:tensorflow:global_step/sec: 424.239\n",
      "INFO:tensorflow:step = 1101, loss = 6.754 (0.234 sec)\n",
      "INFO:tensorflow:global_step/sec: 432.567\n",
      "INFO:tensorflow:step = 1201, loss = 9.35646 (0.233 sec)\n",
      "INFO:tensorflow:global_step/sec: 408.924\n",
      "INFO:tensorflow:step = 1301, loss = 7.2532 (0.245 sec)\n",
      "INFO:tensorflow:global_step/sec: 417.293\n",
      "INFO:tensorflow:step = 1401, loss = 12.6602 (0.240 sec)\n",
      "INFO:tensorflow:global_step/sec: 482.826\n",
      "INFO:tensorflow:step = 1501, loss = 2.7812 (0.205 sec)\n",
      "INFO:tensorflow:global_step/sec: 537.814\n",
      "INFO:tensorflow:step = 1601, loss = 12.1908 (0.188 sec)\n",
      "INFO:tensorflow:global_step/sec: 489.865\n",
      "INFO:tensorflow:step = 1701, loss = 5.68558 (0.204 sec)\n",
      "INFO:tensorflow:global_step/sec: 478.732\n",
      "INFO:tensorflow:step = 1801, loss = 4.35901 (0.206 sec)\n",
      "INFO:tensorflow:global_step/sec: 487.154\n",
      "INFO:tensorflow:step = 1901, loss = 4.61182 (0.206 sec)\n",
      "INFO:tensorflow:Saving checkpoints for 2000 into ./model/model.ckpt.\n",
      "INFO:tensorflow:Loss for final step: 9.51102.\n"
     ]
    },
    {
     "data": {
      "text/plain": [
       "<tensorflow.python.estimator.canned.dnn.DNNClassifier at 0x12014c780>"
      ]
     },
     "execution_count": 8,
     "metadata": {},
     "output_type": "execute_result"
    }
   ],
   "source": [
    "classifier.train(input_fn=train_input_fn, steps=2000)"
   ]
  },
  {
   "cell_type": "code",
   "execution_count": 9,
   "metadata": {
    "collapsed": true
   },
   "outputs": [],
   "source": [
    "test_input_fn = tf.estimator.inputs.numpy_input_fn(\n",
    "    x={\"x\": np.array(test_set.data)},\n",
    "    y=np.array(test_set.target),\n",
    "    num_epochs=1,\n",
    "    shuffle=False)"
   ]
  },
  {
   "cell_type": "code",
   "execution_count": 10,
   "metadata": {
    "collapsed": false
   },
   "outputs": [
    {
     "name": "stdout",
     "output_type": "stream",
     "text": [
      "INFO:tensorflow:Starting evaluation at 2017-10-25-10:31:48\n",
      "INFO:tensorflow:Restoring parameters from ./model/model.ckpt-2000\n",
      "INFO:tensorflow:Finished evaluation at 2017-10-25-10:31:49\n",
      "INFO:tensorflow:Saving dict for global step 2000: accuracy = 0.966667, average_loss = 0.0823072, global_step = 2000, loss = 2.46922\n",
      "\n",
      "Test Accuracy: 0.966667\n",
      "\n"
     ]
    }
   ],
   "source": [
    "accuracy_score = classifier.evaluate(input_fn=test_input_fn)[\"accuracy\"]\n",
    "\n",
    "print(\"\\nTest Accuracy: {0:f}\\n\".format(accuracy_score))"
   ]
  },
  {
   "cell_type": "code",
   "execution_count": null,
   "metadata": {
    "collapsed": true
   },
   "outputs": [],
   "source": []
  }
 ],
 "metadata": {
  "anaconda-cloud": {},
  "kernelspec": {
   "display_name": "Python [conda env:py35]",
   "language": "python",
   "name": "conda-env-py35-py"
  },
  "language_info": {
   "codemirror_mode": {
    "name": "ipython",
    "version": 3
   },
   "file_extension": ".py",
   "mimetype": "text/x-python",
   "name": "python",
   "nbconvert_exporter": "python",
   "pygments_lexer": "ipython3",
   "version": "3.5.2"
  }
 },
 "nbformat": 4,
 "nbformat_minor": 1
}
