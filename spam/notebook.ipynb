{
 "cells": [
  {
   "cell_type": "code",
   "execution_count": 1,
   "metadata": {
    "collapsed": true
   },
   "outputs": [],
   "source": [
    "import numpy as np\n",
    "import pandas as pd\n",
    "import tensorflow as tf"
   ]
  },
  {
   "cell_type": "code",
   "execution_count": null,
   "metadata": {
    "collapsed": true
   },
   "outputs": [],
   "source": [
    "def normalize(data):\n",
    "    mean = data.mean()\n",
    "    std = data.std()\n",
    "    return (data - mean) / std"
   ]
  },
  {
   "cell_type": "code",
   "execution_count": 2,
   "metadata": {
    "collapsed": false
   },
   "outputs": [],
   "source": [
    "def data():\n",
    "    x = pd.read_csv('train.csv', header=None)\n",
    "    x = normalize(x)\n",
    "    x = x.fillna(x.mean())\n",
    "    x = x.T\n",
    "    y = pd.read_csv('train_labels.csv', header=None)\n",
    "    y = y.T\n",
    "    return x, y"
   ]
  },
  {
   "cell_type": "code",
   "execution_count": 4,
   "metadata": {
    "collapsed": true
   },
   "outputs": [],
   "source": [
    "def train(x, y):\n",
    "    n_x = x.shape[0]\n",
    "    n_y = y.shape[0]\n",
    "    learning_rate = tf.train.exponential_decay(learning_rate=0.0008,\n",
    "                                               global_step=1,\n",
    "                                               decay_steps=x.shape[1],\n",
    "                                               decay_rate=0.95,\n",
    "                                               staircase=True)\n",
    "    num_epochs = 50000\n",
    "    X = tf.placeholder(tf.float32, shape=(n_x, None), name=\"X\")\n",
    "    Y = tf.placeholder(tf.float32, shape=(n_y, None), name=\"Y\")\n",
    "    W1 = tf.get_variable(\"W1\", [n_y, n_x], initializer=tf.contrib.layers.xavier_initializer())\n",
    "    b1 = tf.get_variable(\"b1\", [n_y, 1], initializer=tf.zeros_initializer())\n",
    "    Z1 = tf.add(tf.matmul(W1, X), b1)\n",
    "    Z1 = tf.nn.sigmoid(Z1)\n",
    "    cost = tf.nn.l2_loss(Z1-Y)\n",
    "    optimizer = tf.train.AdamOptimizer(learning_rate=learning_rate).minimize(cost)\n",
    "    init = tf.global_variables_initializer()\n",
    "    with tf.Session() as sess:\n",
    "        sess.run(init)\n",
    "        for epoch in range(num_epochs):\n",
    "            _ , c = sess.run([optimizer, cost], feed_dict={X: x, Y: y})\n",
    "            if epoch % 2000 == 0:\n",
    "                print(\"cost: {0}\".format(c))"
   ]
  },
  {
   "cell_type": "code",
   "execution_count": 5,
   "metadata": {
    "collapsed": false
   },
   "outputs": [
    {
     "name": "stdout",
     "output_type": "stream",
     "text": [
      "cost: 92.96688842773438\n",
      "cost: 15.583012580871582\n",
      "cost: 11.977375030517578\n",
      "cost: 9.40560531616211\n",
      "cost: 7.54097843170166\n",
      "cost: 6.334347724914551\n",
      "cost: 5.567959308624268\n",
      "cost: 5.109323024749756\n",
      "cost: 4.844478607177734\n",
      "cost: 4.69405460357666\n",
      "cost: 4.609175205230713\n",
      "cost: 4.561405658721924\n",
      "cost: 4.534541130065918\n",
      "cost: 4.519434452056885\n",
      "cost: 4.510937690734863\n",
      "cost: 4.506157398223877\n",
      "cost: 4.503467559814453\n",
      "cost: 4.501953125\n",
      "cost: 4.501100540161133\n",
      "cost: 4.500620365142822\n",
      "cost: 4.500349998474121\n",
      "cost: 4.500197410583496\n",
      "cost: 4.5001115798950195\n",
      "cost: 4.500062942504883\n",
      "cost: 4.500035285949707\n"
     ]
    }
   ],
   "source": [
    "x, y = data()\n",
    "train(x, y)"
   ]
  },
  {
   "cell_type": "code",
   "execution_count": null,
   "metadata": {
    "collapsed": true
   },
   "outputs": [],
   "source": []
  }
 ],
 "metadata": {
  "anaconda-cloud": {},
  "kernelspec": {
   "display_name": "Python [conda env:py35]",
   "language": "python",
   "name": "conda-env-py35-py"
  },
  "language_info": {
   "codemirror_mode": {
    "name": "ipython",
    "version": 3
   },
   "file_extension": ".py",
   "mimetype": "text/x-python",
   "name": "python",
   "nbconvert_exporter": "python",
   "pygments_lexer": "ipython3",
   "version": "3.5.2"
  }
 },
 "nbformat": 4,
 "nbformat_minor": 1
}
