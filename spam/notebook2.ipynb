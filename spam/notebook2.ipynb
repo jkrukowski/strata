{
 "cells": [
  {
   "cell_type": "code",
   "execution_count": 6,
   "metadata": {
    "collapsed": true
   },
   "outputs": [],
   "source": [
    "import numpy as np\n",
    "import pandas as pd\n",
    "import tensorflow as tf"
   ]
  },
  {
   "cell_type": "code",
   "execution_count": 7,
   "metadata": {
    "collapsed": true
   },
   "outputs": [],
   "source": [
    "def normalize(data):\n",
    "    mean = data.mean()\n",
    "    std = data.std()\n",
    "    return (data - mean) / std"
   ]
  },
  {
   "cell_type": "code",
   "execution_count": 8,
   "metadata": {
    "collapsed": false
   },
   "outputs": [],
   "source": [
    "def data(split=0.8):\n",
    "    x = pd.read_csv('train.csv', header=None)\n",
    "    x = normalize(x)\n",
    "    x = x.fillna(x.mean())\n",
    "    y = pd.read_csv('train_labels.csv', header=None)\n",
    "    x['y'] = y\n",
    "    x = x.sample(frac=1)\n",
    "    index = int(split * x.shape[0])\n",
    "    x_train = x[:index]\n",
    "    x_test = x[index:]\n",
    "    y_train = x_train['y']\n",
    "    y_test = x_test['y']\n",
    "    del x_train['y']\n",
    "    del x_test['y']\n",
    "    return x_train.as_matrix(), y_train.as_matrix(), x_test.as_matrix(), y_test.as_matrix()"
   ]
  },
  {
   "cell_type": "code",
   "execution_count": 9,
   "metadata": {
    "collapsed": true
   },
   "outputs": [],
   "source": [
    "def train(x, y, x_test, y_test):\n",
    "    feature_columns = [tf.feature_column.numeric_column(\"x\", shape=[100])]\n",
    "    classifier = tf.estimator.DNNClassifier(feature_columns=feature_columns,\n",
    "                                            hidden_units=[10, 20, 10],\n",
    "                                            n_classes=2,\n",
    "                                            model_dir=\"./model\")\n",
    "    train_input_fn = tf.estimator.inputs.numpy_input_fn(\n",
    "        x={\"x\": x},\n",
    "        y=y,\n",
    "        num_epochs=None,\n",
    "        shuffle=True)\n",
    "    classifier.train(input_fn=train_input_fn, steps=2000)\n",
    "    \n",
    "    test_input_fn = tf.estimator.inputs.numpy_input_fn(\n",
    "        x={\"x\": x_test},\n",
    "        y=y_test,\n",
    "        num_epochs=1,\n",
    "        shuffle=False)\n",
    "    accuracy_score = classifier.evaluate(input_fn=test_input_fn)[\"accuracy\"]\n",
    "    print(\"\\nTest Accuracy: {0:f}\\n\".format(accuracy_score))"
   ]
  },
  {
   "cell_type": "code",
   "execution_count": 10,
   "metadata": {
    "collapsed": false
   },
   "outputs": [
    {
     "name": "stdout",
     "output_type": "stream",
     "text": [
      "INFO:tensorflow:Using default config.\n",
      "INFO:tensorflow:Using config: {'_session_config': None, '_log_step_count_steps': 100, '_save_summary_steps': 100, '_save_checkpoints_steps': None, '_keep_checkpoint_every_n_hours': 10000, '_save_checkpoints_secs': 600, '_model_dir': './model', '_keep_checkpoint_max': 5, '_tf_random_seed': 1}\n",
      "INFO:tensorflow:Create CheckpointSaverHook.\n",
      "INFO:tensorflow:Restoring parameters from ./model/model.ckpt-2000\n",
      "INFO:tensorflow:Saving checkpoints for 2001 into ./model/model.ckpt.\n",
      "INFO:tensorflow:loss = 21.2386, step = 2001\n",
      "INFO:tensorflow:global_step/sec: 560.539\n",
      "INFO:tensorflow:loss = 3.4978, step = 2101 (0.179 sec)\n",
      "INFO:tensorflow:global_step/sec: 565.764\n",
      "INFO:tensorflow:loss = 0.0585824, step = 2201 (0.177 sec)\n",
      "INFO:tensorflow:global_step/sec: 523.659\n",
      "INFO:tensorflow:loss = 0.458516, step = 2301 (0.191 sec)\n",
      "INFO:tensorflow:global_step/sec: 543.466\n",
      "INFO:tensorflow:loss = 0.0499312, step = 2401 (0.184 sec)\n",
      "INFO:tensorflow:global_step/sec: 561.574\n",
      "INFO:tensorflow:loss = 1.75542, step = 2501 (0.178 sec)\n",
      "INFO:tensorflow:global_step/sec: 526.44\n",
      "INFO:tensorflow:loss = 0.792933, step = 2601 (0.190 sec)\n",
      "INFO:tensorflow:global_step/sec: 369.201\n",
      "INFO:tensorflow:loss = 0.252277, step = 2701 (0.277 sec)\n",
      "INFO:tensorflow:global_step/sec: 358.916\n",
      "INFO:tensorflow:loss = 0.0165011, step = 2801 (0.272 sec)\n",
      "INFO:tensorflow:global_step/sec: 340.423\n",
      "INFO:tensorflow:loss = 0.0304261, step = 2901 (0.297 sec)\n",
      "INFO:tensorflow:global_step/sec: 342.796\n",
      "INFO:tensorflow:loss = 0.239053, step = 3001 (0.291 sec)\n",
      "INFO:tensorflow:global_step/sec: 395.834\n",
      "INFO:tensorflow:loss = 1.87252, step = 3101 (0.252 sec)\n",
      "INFO:tensorflow:global_step/sec: 467.423\n",
      "INFO:tensorflow:loss = 0.47082, step = 3201 (0.213 sec)\n",
      "INFO:tensorflow:global_step/sec: 525.926\n",
      "INFO:tensorflow:loss = 0.467687, step = 3301 (0.190 sec)\n",
      "INFO:tensorflow:global_step/sec: 366.363\n",
      "INFO:tensorflow:loss = 0.227845, step = 3401 (0.273 sec)\n",
      "INFO:tensorflow:global_step/sec: 315.264\n",
      "INFO:tensorflow:loss = 0.216759, step = 3501 (0.317 sec)\n",
      "INFO:tensorflow:global_step/sec: 345.634\n",
      "INFO:tensorflow:loss = 0.453194, step = 3601 (0.289 sec)\n",
      "INFO:tensorflow:global_step/sec: 548.573\n",
      "INFO:tensorflow:loss = 0.00629867, step = 3701 (0.183 sec)\n",
      "INFO:tensorflow:global_step/sec: 496.702\n",
      "INFO:tensorflow:loss = 2.28816, step = 3801 (0.201 sec)\n",
      "INFO:tensorflow:global_step/sec: 319.94\n",
      "INFO:tensorflow:loss = 0.00665909, step = 3901 (0.314 sec)\n",
      "INFO:tensorflow:Saving checkpoints for 4000 into ./model/model.ckpt.\n",
      "INFO:tensorflow:Loss for final step: 0.22173.\n",
      "WARNING:tensorflow:Casting <dtype: 'float32'> labels to bool.\n",
      "WARNING:tensorflow:Casting <dtype: 'float32'> labels to bool.\n",
      "INFO:tensorflow:Starting evaluation at 2017-10-25-13:48:55\n",
      "INFO:tensorflow:Restoring parameters from ./model/model.ckpt-4000\n",
      "INFO:tensorflow:Finished evaluation at 2017-10-25-13:48:56\n",
      "INFO:tensorflow:Saving dict for global step 4000: accuracy = 0.95, accuracy_baseline = 0.608333, auc = 0.981638, auc_precision_recall = 0.970593, average_loss = 0.281621, global_step = 4000, label/mean = 0.391667, loss = 33.7945, prediction/mean = 0.400366\n",
      "\n",
      "Test Accuracy: 0.950000\n",
      "\n"
     ]
    }
   ],
   "source": [
    "x_train, y_train, x_test, y_test = data()\n",
    "x_train\n",
    "train(x_train, y_train, x_test, y_test)"
   ]
  },
  {
   "cell_type": "code",
   "execution_count": null,
   "metadata": {
    "collapsed": true
   },
   "outputs": [],
   "source": []
  }
 ],
 "metadata": {
  "anaconda-cloud": {},
  "kernelspec": {
   "display_name": "Python [conda env:py35]",
   "language": "python",
   "name": "conda-env-py35-py"
  },
  "language_info": {
   "codemirror_mode": {
    "name": "ipython",
    "version": 3
   },
   "file_extension": ".py",
   "mimetype": "text/x-python",
   "name": "python",
   "nbconvert_exporter": "python",
   "pygments_lexer": "ipython3",
   "version": "3.5.2"
  }
 },
 "nbformat": 4,
 "nbformat_minor": 1
}
