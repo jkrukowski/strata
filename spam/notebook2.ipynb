{
 "cells": [
  {
   "cell_type": "code",
   "execution_count": 1,
   "metadata": {
    "collapsed": true
   },
   "outputs": [],
   "source": [
    "import numpy as np\n",
    "import pandas as pd\n",
    "import tensorflow as tf"
   ]
  },
  {
   "cell_type": "code",
   "execution_count": 2,
   "metadata": {
    "collapsed": true
   },
   "outputs": [],
   "source": [
    "def normalize(data):\n",
    "    mean = data.mean()\n",
    "    std = data.std()\n",
    "    return (data - mean) / std"
   ]
  },
  {
   "cell_type": "code",
   "execution_count": 3,
   "metadata": {
    "collapsed": false
   },
   "outputs": [],
   "source": [
    "def data(split=0.7):\n",
    "    x = pd.read_csv('train.csv', header=None)\n",
    "    x = normalize(x)\n",
    "    x = x.fillna(x.mean())\n",
    "    y = pd.read_csv('train_labels.csv', header=None)\n",
    "    x['y'] = y\n",
    "    x = x.sample(frac=1)\n",
    "    index = int(split * x.shape[0])\n",
    "    x_train = x[:index]\n",
    "    x_test = x[index:]\n",
    "    y_train = x_train['y']\n",
    "    y_test = x_test['y']\n",
    "    del x_train['y']\n",
    "    del x_test['y']\n",
    "    return x_train.as_matrix(), y_train.as_matrix(), x_test.as_matrix(), y_test.as_matrix()"
   ]
  },
  {
   "cell_type": "code",
   "execution_count": 4,
   "metadata": {
    "collapsed": true
   },
   "outputs": [],
   "source": [
    "def train(x, y, x_test, y_test):\n",
    "    feature_columns = [tf.feature_column.numeric_column(\"x\", shape=[100])]\n",
    "    classifier = tf.estimator.DNNClassifier(feature_columns=feature_columns,\n",
    "                                            hidden_units=[10, 20, 10],\n",
    "                                            n_classes=2,\n",
    "                                            model_dir=\"./model\")\n",
    "    train_input_fn = tf.estimator.inputs.numpy_input_fn(\n",
    "        x={\"x\": x},\n",
    "        y=y,\n",
    "        num_epochs=None,\n",
    "        shuffle=True)\n",
    "    classifier.train(input_fn=train_input_fn, steps=2000)\n",
    "    \n",
    "    test_input_fn = tf.estimator.inputs.numpy_input_fn(\n",
    "        x={\"x\": x_test},\n",
    "        y=y_test,\n",
    "        num_epochs=1,\n",
    "        shuffle=False)\n",
    "    accuracy_score = classifier.evaluate(input_fn=test_input_fn)[\"accuracy\"]\n",
    "    print(\"\\nTest Accuracy: {0:f}\\n\".format(accuracy_score))"
   ]
  },
  {
   "cell_type": "code",
   "execution_count": 5,
   "metadata": {
    "collapsed": false
   },
   "outputs": [
    {
     "name": "stdout",
     "output_type": "stream",
     "text": [
      "INFO:tensorflow:Using default config.\n",
      "INFO:tensorflow:Using config: {'_session_config': None, '_log_step_count_steps': 100, '_save_summary_steps': 100, '_save_checkpoints_steps': None, '_keep_checkpoint_every_n_hours': 10000, '_save_checkpoints_secs': 600, '_model_dir': './model', '_keep_checkpoint_max': 5, '_tf_random_seed': 1}\n",
      "INFO:tensorflow:Create CheckpointSaverHook.\n",
      "INFO:tensorflow:Saving checkpoints for 1 into ./model/model.ckpt.\n",
      "INFO:tensorflow:loss = 91.4429, step = 1\n",
      "INFO:tensorflow:global_step/sec: 374.166\n",
      "INFO:tensorflow:loss = 1.21155, step = 101 (0.267 sec)\n",
      "INFO:tensorflow:global_step/sec: 516.044\n",
      "INFO:tensorflow:loss = 0.323613, step = 201 (0.193 sec)\n",
      "INFO:tensorflow:global_step/sec: 575.685\n",
      "INFO:tensorflow:loss = 0.623858, step = 301 (0.173 sec)\n",
      "INFO:tensorflow:global_step/sec: 539.264\n",
      "INFO:tensorflow:loss = 0.307469, step = 401 (0.186 sec)\n",
      "INFO:tensorflow:global_step/sec: 539.15\n",
      "INFO:tensorflow:loss = 0.550075, step = 501 (0.187 sec)\n",
      "INFO:tensorflow:global_step/sec: 387.898\n",
      "INFO:tensorflow:loss = 0.612565, step = 601 (0.258 sec)\n",
      "INFO:tensorflow:global_step/sec: 382.378\n",
      "INFO:tensorflow:loss = 0.307074, step = 701 (0.261 sec)\n",
      "INFO:tensorflow:global_step/sec: 402.491\n",
      "INFO:tensorflow:loss = 1.66744, step = 801 (0.248 sec)\n",
      "INFO:tensorflow:global_step/sec: 367.042\n",
      "INFO:tensorflow:loss = 0.00437381, step = 901 (0.276 sec)\n",
      "INFO:tensorflow:global_step/sec: 360.838\n",
      "INFO:tensorflow:loss = 0.268228, step = 1001 (0.274 sec)\n",
      "INFO:tensorflow:global_step/sec: 354.351\n",
      "INFO:tensorflow:loss = 0.00439018, step = 1101 (0.282 sec)\n",
      "INFO:tensorflow:global_step/sec: 482.714\n",
      "INFO:tensorflow:loss = 0.00566325, step = 1201 (0.206 sec)\n",
      "INFO:tensorflow:global_step/sec: 581.507\n",
      "INFO:tensorflow:loss = 0.288279, step = 1301 (0.173 sec)\n",
      "INFO:tensorflow:global_step/sec: 521.089\n",
      "INFO:tensorflow:loss = 0.00332324, step = 1401 (0.191 sec)\n",
      "INFO:tensorflow:global_step/sec: 468.215\n",
      "INFO:tensorflow:loss = 0.919776, step = 1501 (0.216 sec)\n",
      "INFO:tensorflow:global_step/sec: 358.347\n",
      "INFO:tensorflow:loss = 0.00197287, step = 1601 (0.277 sec)\n",
      "INFO:tensorflow:global_step/sec: 386.874\n",
      "INFO:tensorflow:loss = 0.263934, step = 1701 (0.261 sec)\n",
      "INFO:tensorflow:global_step/sec: 379.204\n",
      "INFO:tensorflow:loss = 0.291028, step = 1801 (0.263 sec)\n",
      "INFO:tensorflow:global_step/sec: 404.549\n",
      "INFO:tensorflow:loss = 1.28672, step = 1901 (0.246 sec)\n",
      "INFO:tensorflow:Saving checkpoints for 2000 into ./model/model.ckpt.\n",
      "INFO:tensorflow:Loss for final step: 0.612113.\n",
      "WARNING:tensorflow:Casting <dtype: 'float32'> labels to bool.\n",
      "WARNING:tensorflow:Casting <dtype: 'float32'> labels to bool.\n",
      "INFO:tensorflow:Starting evaluation at 2017-10-25-13:17:02\n",
      "INFO:tensorflow:Restoring parameters from ./model/model.ckpt-2000\n",
      "INFO:tensorflow:Finished evaluation at 2017-10-25-13:17:03\n",
      "INFO:tensorflow:Saving dict for global step 2000: accuracy = 0.866667, accuracy_baseline = 0.627778, auc = 0.891692, auc_precision_recall = 0.878076, average_loss = 1.30502, global_step = 2000, label/mean = 0.372222, loss = 117.452, prediction/mean = 0.394108\n",
      "\n",
      "Test Accuracy: 0.866667\n",
      "\n"
     ]
    }
   ],
   "source": [
    "x_train, y_train, x_test, y_test = data()\n",
    "x_train\n",
    "train(x_train, y_train, x_test, y_test)"
   ]
  },
  {
   "cell_type": "code",
   "execution_count": null,
   "metadata": {
    "collapsed": true
   },
   "outputs": [],
   "source": []
  }
 ],
 "metadata": {
  "anaconda-cloud": {},
  "kernelspec": {
   "display_name": "Python [conda env:py35]",
   "language": "python",
   "name": "conda-env-py35-py"
  },
  "language_info": {
   "codemirror_mode": {
    "name": "ipython",
    "version": 3
   },
   "file_extension": ".py",
   "mimetype": "text/x-python",
   "name": "python",
   "nbconvert_exporter": "python",
   "pygments_lexer": "ipython3",
   "version": "3.5.2"
  }
 },
 "nbformat": 4,
 "nbformat_minor": 1
}
